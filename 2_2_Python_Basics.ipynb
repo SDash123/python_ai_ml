{
  "nbformat": 4,
  "nbformat_minor": 0,
  "metadata": {
    "colab": {
      "provenance": [],
      "authorship_tag": "ABX9TyPiuicvvdodrs89sVL6DAGO",
      "include_colab_link": true
    },
    "kernelspec": {
      "name": "python3",
      "display_name": "Python 3"
    },
    "language_info": {
      "name": "python"
    }
  },
  "cells": [
    {
      "cell_type": "markdown",
      "metadata": {
        "id": "view-in-github",
        "colab_type": "text"
      },
      "source": [
        "<a href=\"https://colab.research.google.com/github/SDash123/python_ai_ml/blob/main/2_2_Python_Basics.ipynb\" target=\"_parent\"><img src=\"https://colab.research.google.com/assets/colab-badge.svg\" alt=\"Open In Colab\"/></a>"
      ]
    },
    {
      "cell_type": "code",
      "execution_count": null,
      "metadata": {
        "colab": {
          "base_uri": "https://localhost:8080/"
        },
        "id": "PHaE0Rm-FBHN",
        "outputId": "7a9d6253-c658-46ee-8d92-db29ad7ff9ba"
      },
      "outputs": [
        {
          "output_type": "stream",
          "name": "stdout",
          "text": [
            "Hello Python 101\n"
          ]
        }
      ],
      "source": [
        "# print Hello Python 101\n",
        "print (\"Hello Python 101\")"
      ]
    },
    {
      "cell_type": "code",
      "source": [
        "# Types in Python\n",
        "print (float(2))\n",
        "print (int(1.1))\n",
        "print (int('1'))\n",
        "print (str(1))\n",
        "print (str(4.5))\n",
        "print (type(\"Hello\"))\n",
        "print (type(5))\n",
        "print (type(2.5))\n",
        "print (type(True))\n",
        "print (type(False))\n",
        "print (int(True))\n",
        "print (int(False))\n",
        "print (bool(1))\n",
        "print (bool(0))"
      ],
      "metadata": {
        "colab": {
          "base_uri": "https://localhost:8080/"
        },
        "id": "BH4DED7WFdbf",
        "outputId": "79580159-f77a-4a47-c165-3707f7547d7f"
      },
      "execution_count": null,
      "outputs": [
        {
          "output_type": "stream",
          "name": "stdout",
          "text": [
            "2.0\n",
            "1\n",
            "1\n",
            "1\n",
            "4.5\n",
            "<class 'str'>\n",
            "<class 'int'>\n",
            "<class 'float'>\n",
            "<class 'bool'>\n",
            "<class 'bool'>\n",
            "1\n",
            "0\n",
            "True\n",
            "False\n"
          ]
        }
      ]
    },
    {
      "cell_type": "code",
      "source": [
        "# Expressions and variable\n",
        "print(26/5)\n",
        "print(26//5)"
      ],
      "metadata": {
        "id": "6kMjwLHgH-Tt",
        "colab": {
          "base_uri": "https://localhost:8080/"
        },
        "outputId": "a7242382-6617-4ab5-ce4e-1a5a870e9d38"
      },
      "execution_count": null,
      "outputs": [
        {
          "output_type": "stream",
          "name": "stdout",
          "text": [
            "5.2\n",
            "5\n"
          ]
        }
      ]
    },
    {
      "cell_type": "code",
      "source": [
        "# Strings\n",
        "print(\"Strings are immutable\")\n",
        "name = \"MICHAEL JACKSON\"\n",
        "print(name)\n",
        "print(\"String index starts with 0\")\n",
        "print (\"String length = \", len(name))\n",
        "print (\"name[0]   = \", name[0])\n",
        "print (\"name[6]   = \", name[6])\n",
        "print (\"name[13]  = \", name[13])\n",
        "print (\"name[-1]  = \", name[-1])\n",
        "print (\"name[-14] = \", name[-14])\n",
        "print (name[-1*len(name)])\n",
        "print(\"----------------\")\n",
        "print(\"name[0:4]    = \", name[0:4])\n",
        "print(\"name[8:12]   = \", name[9:12])\n",
        "\n",
        "# print every 3rd variable\n",
        "print(\"name[::3]    = \", name[::3])\n",
        "\n",
        "# print every 2nd variable upto index 10\n",
        "print(\"name[0:11:2] = \", name[0:11:2])\n",
        "print(\"----------------\")\n",
        "\n",
        "#concat\n",
        "print (\"Hello! \" + name)\n",
        "print(\"----------------\")\n",
        "\n",
        "#tuples\n",
        "print (2 * name)\n",
        "print(\"----------------\")\n"
      ],
      "metadata": {
        "colab": {
          "base_uri": "https://localhost:8080/"
        },
        "id": "SlBs7mzT5kO7",
        "outputId": "b31a0d17-830d-4a11-f6ec-15da2cc8d5a3"
      },
      "execution_count": null,
      "outputs": [
        {
          "output_type": "stream",
          "name": "stdout",
          "text": [
            "Strings are immutable\n",
            "MICHAEL JACKSON\n",
            "String index starts with 0\n",
            "String length =  15\n",
            "name[0]   =  M\n",
            "name[6]   =  L\n",
            "name[13]  =  O\n",
            "name[-1]  =  N\n",
            "name[-14] =  I\n",
            "M\n",
            "----------------\n",
            "name[0:4]    =  MICH\n",
            "name[8:12]   =  ACK\n",
            "name[::3]    =  MHLAS\n",
            "name[0:11:2] =  MCALJC\n",
            "----------------\n",
            "Hello! MICHAEL JACKSON\n",
            "----------------\n",
            "MICHAEL JACKSONMICHAEL JACKSON\n",
            "----------------\n"
          ]
        }
      ]
    },
    {
      "cell_type": "code",
      "source": [
        "# Strings\n",
        "print(\"Strings are immutable\")\n",
        "name = \"MICHAEL JACKSON\"\n",
        "\n",
        "# String: escape sequence. These are the string that are difficult ot input\n",
        "print(name + \"\\n is the best\")\n",
        "print(name + \"\\t\\t is the best\")\n",
        "print(name + \"\\\\ is the best\")\n",
        "print(r\"hello! \\ good morning\")"
      ],
      "metadata": {
        "colab": {
          "base_uri": "https://localhost:8080/"
        },
        "id": "RDF_nUh-_z6m",
        "outputId": "6944b8fe-b0fd-4207-881b-b2429181d02d"
      },
      "execution_count": null,
      "outputs": [
        {
          "output_type": "stream",
          "name": "stdout",
          "text": [
            "Strings are immutable\n",
            "MICHAEL JACKSON\n",
            " is the best\n",
            "MICHAEL JACKSON\t\t is the best\n",
            "MICHAEL JACKSON\\ is the best\n",
            "hello! \\ good morning\n"
          ]
        }
      ]
    },
    {
      "cell_type": "code",
      "source": [
        "# String methods\n",
        "album = \"thriller is the sixth studio album - wrongly placing is\"\n",
        "print(album.capitalize())\n",
        "print(album.upper())\n",
        "print(album.replace(\"sixth\", \"fifth\"))\n",
        "\n",
        "# stride\n",
        "print(album.find(\"studio\"))\n",
        "print(album.find(\"is\"))\n",
        "\n",
        "# string not found, returns -1\n",
        "print(album.find(\"hello\"))"
      ],
      "metadata": {
        "colab": {
          "base_uri": "https://localhost:8080/"
        },
        "id": "S-umnhue7XIC",
        "outputId": "b0ebaf0b-2da3-40af-f511-311e80d6daf6"
      },
      "execution_count": null,
      "outputs": [
        {
          "output_type": "stream",
          "name": "stdout",
          "text": [
            "Thriller is the sixth studio album - wrongly placing is\n",
            "THRILLER IS THE SIXTH STUDIO ALBUM - WRONGLY PLACING IS\n",
            "thriller is the fifth studio album - wrongly placing is\n",
            "22\n",
            "9\n",
            "-1\n"
          ]
        }
      ]
    },
    {
      "cell_type": "code",
      "source": [],
      "metadata": {
        "id": "H1z9pKMyAS_s"
      },
      "execution_count": null,
      "outputs": []
    }
  ]
}