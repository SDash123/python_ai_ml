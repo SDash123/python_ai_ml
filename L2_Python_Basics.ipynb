{
  "nbformat": 4,
  "nbformat_minor": 0,
  "metadata": {
    "colab": {
      "provenance": [],
      "authorship_tag": "ABX9TyNrHWmVWlNgoCy7YHwqCfwc",
      "include_colab_link": true
    },
    "kernelspec": {
      "name": "python3",
      "display_name": "Python 3"
    },
    "language_info": {
      "name": "python"
    }
  },
  "cells": [
    {
      "cell_type": "markdown",
      "metadata": {
        "id": "view-in-github",
        "colab_type": "text"
      },
      "source": [
        "<a href=\"https://colab.research.google.com/github/SDash123/python_ai_ml/blob/main/L2_Python_Basics.ipynb\" target=\"_parent\"><img src=\"https://colab.research.google.com/assets/colab-badge.svg\" alt=\"Open In Colab\"/></a>"
      ]
    },
    {
      "cell_type": "code",
      "execution_count": 2,
      "metadata": {
        "colab": {
          "base_uri": "https://localhost:8080/"
        },
        "id": "PHaE0Rm-FBHN",
        "outputId": "7a9d6253-c658-46ee-8d92-db29ad7ff9ba"
      },
      "outputs": [
        {
          "output_type": "stream",
          "name": "stdout",
          "text": [
            "Hello Python 101\n"
          ]
        }
      ],
      "source": [
        "# print Hello Python 101\n",
        "print (\"Hello Python 101\")"
      ]
    },
    {
      "cell_type": "code",
      "source": [
        "# Types in Python\n",
        "print (float(2))\n",
        "print (int(1.1))\n",
        "print (int('1'))\n",
        "print (str(1))\n",
        "print (str(4.5))\n",
        "print (type(True))"
      ],
      "metadata": {
        "colab": {
          "base_uri": "https://localhost:8080/"
        },
        "id": "BH4DED7WFdbf",
        "outputId": "bb297a6a-1f97-4b5b-ac4f-f254c3892f80"
      },
      "execution_count": 6,
      "outputs": [
        {
          "output_type": "stream",
          "name": "stdout",
          "text": [
            "2.0\n",
            "1\n",
            "1\n",
            "1\n",
            "4.5\n",
            "<class 'bool'>\n"
          ]
        }
      ]
    },
    {
      "cell_type": "code",
      "source": [],
      "metadata": {
        "id": "6kMjwLHgH-Tt"
      },
      "execution_count": null,
      "outputs": []
    }
  ]
}